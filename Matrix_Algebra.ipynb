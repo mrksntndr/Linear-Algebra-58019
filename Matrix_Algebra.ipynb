{
  "nbformat": 4,
  "nbformat_minor": 0,
  "metadata": {
    "colab": {
      "name": "Matrix Algebra.ipynb",
      "provenance": [],
      "authorship_tag": "ABX9TyOJvVIB/42VipLLEvyPW0J9",
      "include_colab_link": true
    },
    "kernelspec": {
      "name": "python3",
      "display_name": "Python 3"
    },
    "language_info": {
      "name": "python"
    }
  },
  "cells": [
    {
      "cell_type": "markdown",
      "metadata": {
        "id": "view-in-github",
        "colab_type": "text"
      },
      "source": [
        "<a href=\"https://colab.research.google.com/github/mrksntndr/Linear-Algebra-58019/blob/main/Matrix_Algebra.ipynb\" target=\"_parent\"><img src=\"https://colab.research.google.com/assets/colab-badge.svg\" alt=\"Open In Colab\"/></a>"
      ]
    },
    {
      "cell_type": "markdown",
      "metadata": {
        "id": "3X0nt22fzU7E"
      },
      "source": [
        "##Python program to inverse"
      ]
    },
    {
      "cell_type": "code",
      "metadata": {
        "colab": {
          "base_uri": "https://localhost:8080/"
        },
        "id": "Cwx39Wgi3HYA",
        "outputId": "11e7fde7-0596-4dbd-bfe9-bba5eaaa6b13"
      },
      "source": [
        "import numpy as np\n",
        "A=np.array([[1,2],[4,7]])\n",
        "invA=(np.linalg.inv(A))\n",
        "print(invA)"
      ],
      "execution_count": 34,
      "outputs": [
        {
          "output_type": "stream",
          "name": "stdout",
          "text": [
            "[[-7.  2.]\n",
            " [ 4. -1.]]\n"
          ]
        }
      ]
    },
    {
      "cell_type": "code",
      "metadata": {
        "colab": {
          "base_uri": "https://localhost:8080/"
        },
        "id": "YP-msnD43ow6",
        "outputId": "238df34f-c23e-4b34-d7e1-c49650b521da"
      },
      "source": [
        "C=np.dot(A,invA)\n",
        "print(C)"
      ],
      "execution_count": 35,
      "outputs": [
        {
          "output_type": "stream",
          "name": "stdout",
          "text": [
            "[[1. 0.]\n",
            " [0. 1.]]\n"
          ]
        }
      ]
    },
    {
      "cell_type": "code",
      "metadata": {
        "colab": {
          "base_uri": "https://localhost:8080/"
        },
        "id": "ntJtc2CM4tXg",
        "outputId": "2a7ce456-548d-4402-86bb-953de5679325"
      },
      "source": [
        "##Python Program to Transpose a 3x3 Matrix A=([[6,1,1],[4,-2,5],[2,8,7]])\n",
        "\n",
        "A = np.array ([[6,1,1],[4,-2,5],[2,8,7]])\n",
        "\n",
        "InvOfA = np.linalg.inv(A) #To inverse Matrix A\n",
        "\n",
        "print(A)\n",
        "\n",
        "B = np.transpose(A) #To transpose Matrix A\n",
        "\n",
        "print (B)"
      ],
      "execution_count": 55,
      "outputs": [
        {
          "output_type": "stream",
          "name": "stdout",
          "text": [
            "[[ 6  1  1]\n",
            " [ 4 -2  5]\n",
            " [ 2  8  7]]\n",
            "[[ 6  4  2]\n",
            " [ 1 -2  8]\n",
            " [ 1  5  7]]\n"
          ]
        }
      ]
    },
    {
      "cell_type": "code",
      "metadata": {
        "colab": {
          "base_uri": "https://localhost:8080/"
        },
        "id": "5-bWZYJV6dm1",
        "outputId": "63be9fea-d89c-46c9-f93d-a7d6fdabe487"
      },
      "source": [
        "\n",
        "dot = np.dot(A, InvOfA) #Get dot product of A and its inverse\n",
        "\n",
        "print(dot)"
      ],
      "execution_count": 56,
      "outputs": [
        {
          "output_type": "stream",
          "name": "stdout",
          "text": [
            "[[ 1.00000000e+00  0.00000000e+00  2.77555756e-17]\n",
            " [-1.38777878e-17  1.00000000e+00  1.38777878e-17]\n",
            " [-4.16333634e-17  1.38777878e-16  1.00000000e+00]]\n"
          ]
        }
      ]
    },
    {
      "cell_type": "markdown",
      "metadata": {
        "id": "9QBfEBKTB_75"
      },
      "source": [
        "##CODING ACTIVITY 3"
      ]
    },
    {
      "cell_type": "code",
      "metadata": {
        "colab": {
          "base_uri": "https://localhost:8080/"
        },
        "id": "_5hcZgUWB9km",
        "outputId": "32c6e9cb-dc3a-4c04-8d14-4010935be594"
      },
      "source": [
        "A = np.array([[6,1,1,3],[4,-2,5,1],[2,8,7,6],[3,1,9,7]])\n",
        "\n",
        "InvOfA = np.linalg.inv(A) #To inverse Matrix A\n",
        "\n",
        "print(A)\n",
        "\n",
        "B = np.transpose(A) #To transpose Matrix A\n",
        "\n",
        "print (B)"
      ],
      "execution_count": 57,
      "outputs": [
        {
          "output_type": "stream",
          "name": "stdout",
          "text": [
            "[[ 6  1  1  3]\n",
            " [ 4 -2  5  1]\n",
            " [ 2  8  7  6]\n",
            " [ 3  1  9  7]]\n",
            "[[ 6  4  2  3]\n",
            " [ 1 -2  8  1]\n",
            " [ 1  5  7  9]\n",
            " [ 3  1  6  7]]\n"
          ]
        }
      ]
    }
  ]
}