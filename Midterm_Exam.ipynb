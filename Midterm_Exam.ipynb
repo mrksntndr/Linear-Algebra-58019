{
  "nbformat": 4,
  "nbformat_minor": 0,
  "metadata": {
    "colab": {
      "name": "Midterm Exam.ipynb",
      "provenance": [],
      "authorship_tag": "ABX9TyM+ckcD0bzfZuSTCSxVa3lk",
      "include_colab_link": true
    },
    "kernelspec": {
      "name": "python3",
      "display_name": "Python 3"
    },
    "language_info": {
      "name": "python"
    }
  },
  "cells": [
    {
      "cell_type": "markdown",
      "metadata": {
        "id": "view-in-github",
        "colab_type": "text"
      },
      "source": [
        "<a href=\"https://colab.research.google.com/github/mrksntndr/Linear-Algebra-58019/blob/main/Midterm_Exam.ipynb\" target=\"_parent\"><img src=\"https://colab.research.google.com/assets/colab-badge.svg\" alt=\"Open In Colab\"/></a>"
      ]
    },
    {
      "cell_type": "markdown",
      "metadata": {
        "id": "B4-mDAPS6MGC"
      },
      "source": [
        "Question 1"
      ]
    },
    {
      "cell_type": "code",
      "metadata": {
        "colab": {
          "base_uri": "https://localhost:8080/"
        },
        "id": "5TOQ9HEz5x-j",
        "outputId": "259c9745-1fd6-44ca-9750-319f13a128d4"
      },
      "source": [
        "import numpy as np\n",
        "#Sets the size of the matrix\n",
        "size = (4,4)\n",
        "#Creates a square matrix whose length is 4\n",
        "square_matrix = np.zeros(size)\n",
        "print('A square matrix with a length of 4')\n",
        "print(square_matrix)"
      ],
      "execution_count": 11,
      "outputs": [
        {
          "output_type": "stream",
          "name": "stdout",
          "text": [
            "A square matrix with a length of 4\n",
            "[[0. 0. 0. 0.]\n",
            " [0. 0. 0. 0.]\n",
            " [0. 0. 0. 0.]\n",
            " [0. 0. 0. 0.]]\n"
          ]
        }
      ]
    },
    {
      "cell_type": "markdown",
      "metadata": {
        "id": "rCMiH1yz6TFe"
      },
      "source": [
        "Question 2\n"
      ]
    },
    {
      "cell_type": "code",
      "metadata": {
        "colab": {
          "base_uri": "https://localhost:8080/"
        },
        "id": "0XNjC7IY6Vln",
        "outputId": "83230d80-0d84-44f8-acea-9d428854b3ec"
      },
      "source": [
        "#Creates square matrix with elements below the principal diagonal are zero\n",
        "square_matrix = np.array([[1,2,3,4,5],\n",
        "                          [0,1,2,3,4],\n",
        "                          [0,0,1,2,3],\n",
        "                          [0,0,0,1,2],\n",
        "                          [0,0,0,0,1]])\n",
        "\n",
        "#Prints a square matrix whose elements below the principal diagonal are zero\n",
        "print('A square matrix whose elements below the principal diagonal are zero')\n",
        "print(square_matrix)"
      ],
      "execution_count": 12,
      "outputs": [
        {
          "output_type": "stream",
          "name": "stdout",
          "text": [
            "A square matrix whose elements below the principal diagonal are zero\n",
            "[[1 2 3 4 5]\n",
            " [0 1 2 3 4]\n",
            " [0 0 1 2 3]\n",
            " [0 0 0 1 2]\n",
            " [0 0 0 0 1]]\n"
          ]
        }
      ]
    },
    {
      "cell_type": "markdown",
      "metadata": {
        "id": "92Nu9qF76V1g"
      },
      "source": [
        "Question 3\n"
      ]
    },
    {
      "cell_type": "code",
      "metadata": {
        "colab": {
          "base_uri": "https://localhost:8080/"
        },
        "id": "at_WPJip6WzV",
        "outputId": "72c2db4c-800b-4469-93ee-e962518d4d1e"
      },
      "source": [
        "#Creates a square matrix  which is symmetrical\n",
        "square_matrix = np.array([[1,2,3,4,5],\n",
        "                          [2,1,2,3,4],\n",
        "                          [3,2,1,2,3],\n",
        "                          [4,3,2,1,2],\n",
        "                          [5,4,3,2,1]])\n",
        "\n",
        "#Prints a square matrix which is symmetrical\n",
        "print('Square matrix that is symmetrical')\n",
        "print(square_matrix)"
      ],
      "execution_count": 13,
      "outputs": [
        {
          "output_type": "stream",
          "name": "stdout",
          "text": [
            "A square matrix hich is symmetrical\n",
            "[[1 2 3 4 5]\n",
            " [2 1 2 3 4]\n",
            " [3 2 1 2 3]\n",
            " [4 3 2 1 2]\n",
            " [5 4 3 2 1]]\n"
          ]
        }
      ]
    },
    {
      "cell_type": "markdown",
      "metadata": {
        "id": "f_wbwxyR6W8e"
      },
      "source": [
        "Question 4"
      ]
    },
    {
      "cell_type": "code",
      "metadata": {
        "colab": {
          "base_uri": "https://localhost:8080/"
        },
        "id": "cvTa37tY6YqG",
        "outputId": "ef8affa9-c28e-4ef6-9756-113271535659"
      },
      "source": [
        "C = np.array ([[1,2,3],[2,3,3],[3,4,-2]])\n",
        "#Gets the inverse of Matrix C\n",
        "invC = np.linalg.inv(C) #Inverse of Matrix C\n",
        "print(\"The inverse of Matrix C:\")\n",
        "print(invC)"
      ],
      "execution_count": 4,
      "outputs": [
        {
          "output_type": "stream",
          "name": "stdout",
          "text": [
            "[[-3.6  3.2 -0.6]\n",
            " [ 2.6 -2.2  0.6]\n",
            " [-0.2  0.4 -0.2]]\n"
          ]
        }
      ]
    },
    {
      "cell_type": "markdown",
      "metadata": {
        "id": "Bw3UZtvv6ZDt"
      },
      "source": [
        "Question 5"
      ]
    },
    {
      "cell_type": "code",
      "metadata": {
        "colab": {
          "base_uri": "https://localhost:8080/"
        },
        "id": "uJ2ivEtf6Z9P",
        "outputId": "3541f9d1-60d5-4864-c172-1f504a92144b"
      },
      "source": [
        "C = np.array ([[1,2,3],[2,3,3],[3,4,-2]])\n",
        "\n",
        "detOfC = np.linalg.det(C)\n",
        "\n",
        "print(\"The determinant of matrix in Question 4:\")\n",
        "print(int(detOfC))\n"
      ],
      "execution_count": 5,
      "outputs": [
        {
          "output_type": "stream",
          "name": "stdout",
          "text": [
            "Determinant of the given matrix in Question 4:\n",
            "5\n"
          ]
        }
      ]
    },
    {
      "cell_type": "markdown",
      "metadata": {
        "id": "Wl6qdTSH6aaU"
      },
      "source": [
        "Question 6"
      ]
    },
    {
      "cell_type": "code",
      "metadata": {
        "colab": {
          "base_uri": "https://localhost:8080/"
        },
        "id": "5hFImji66bYJ",
        "outputId": "80bd12e2-67bd-4d0d-fe08-539615a78757"
      },
      "source": [
        "eq = np.array([[5,4,1],\n",
        "               [10,9,4],\n",
        "               [10,13,15]])\n",
        "\n",
        "const = np.array([[[3.4],\n",
        "                   [8.8],\n",
        "                   [19.2]]])\n",
        "\n",
        "#Gets the root of the given linear equations\n",
        "roots = np.linalg.inv(eq) @ const\n",
        "\n",
        "#Prints the root of the given linear equations\n",
        "print(\"The roots are\")\n",
        "print(roots)"
      ],
      "execution_count": 15,
      "outputs": [
        {
          "output_type": "stream",
          "name": "stdout",
          "text": [
            "The roots are\n",
            "[[[0.2]\n",
            "  [0.4]\n",
            "  [0.8]]]\n"
          ]
        }
      ]
    }
  ]
}