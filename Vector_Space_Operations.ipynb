{
  "nbformat": 4,
  "nbformat_minor": 0,
  "metadata": {
    "colab": {
      "name": "Vector Space Operations.ipynb",
      "provenance": [],
      "authorship_tag": "ABX9TyOD5IVTikkZv5fB2BdsEp34",
      "include_colab_link": true
    },
    "kernelspec": {
      "name": "python3",
      "display_name": "Python 3"
    },
    "language_info": {
      "name": "python"
    }
  },
  "cells": [
    {
      "cell_type": "markdown",
      "metadata": {
        "id": "view-in-github",
        "colab_type": "text"
      },
      "source": [
        "<a href=\"https://colab.research.google.com/github/mrksntndr/Linear-Algebra-58019/blob/main/Vector_Space_Operations.ipynb\" target=\"_parent\"><img src=\"https://colab.research.google.com/assets/colab-badge.svg\" alt=\"Open In Colab\"/></a>"
      ]
    },
    {
      "cell_type": "markdown",
      "metadata": {
        "id": "6Dp9alvVH8_M"
      },
      "source": [
        "Representing Vectors"
      ]
    },
    {
      "cell_type": "code",
      "metadata": {
        "colab": {
          "base_uri": "https://localhost:8080/"
        },
        "id": "zlEVYTssHfSJ",
        "outputId": "b34f3b8b-64da-46f3-e535-207177d95231"
      },
      "source": [
        "import numpy as np\n",
        "A = np.array([4,3])\n",
        "B = np.array([2,-5])\n",
        "\n",
        "print('Vector A is',A)\n",
        "print('Vector B is',B)"
      ],
      "execution_count": 1,
      "outputs": [
        {
          "output_type": "stream",
          "name": "stdout",
          "text": [
            "Vector A is [4 3]\n",
            "Vector B is [ 2 -5]\n"
          ]
        }
      ]
    },
    {
      "cell_type": "markdown",
      "metadata": {
        "id": "bpdpTfm3IBMu"
      },
      "source": [
        "Describing Vectors in Numpy"
      ]
    },
    {
      "cell_type": "code",
      "metadata": {
        "id": "xfMmzXHAHhk9"
      },
      "source": [
        "import numpy as np\n",
        "ball1 = np.array([1,2,3])\n",
        "ball2 = np.array([0,1,-1])\n",
        "pool = np.array([ball1,ball2])\n",
        "pool.shape\n",
        "pool.ndim"
      ],
      "execution_count": null,
      "outputs": []
    },
    {
      "cell_type": "code",
      "metadata": {
        "id": "KB5CFPeBHkx5"
      },
      "source": [
        "\n",
        "U = np.array([[1,2,3],[4,5,6]])\n",
        "U"
      ],
      "execution_count": null,
      "outputs": []
    },
    {
      "cell_type": "code",
      "metadata": {
        "id": "Q4IsUmuDHl_Z"
      },
      "source": [
        "\n",
        "U = np.array([[1,2,3],[4,5,6]])\n",
        "U.shape"
      ],
      "execution_count": null,
      "outputs": []
    },
    {
      "cell_type": "code",
      "metadata": {
        "id": "CHpcBUyvHnD6"
      },
      "source": [
        "U = np.array([[1,2,3],[4,5,6]])\n",
        "U.ndim"
      ],
      "execution_count": null,
      "outputs": []
    },
    {
      "cell_type": "code",
      "metadata": {
        "id": "GWlGZKRvHoTz"
      },
      "source": [
        "U = np.array([[1,2,3],[4,5,6]])\n",
        "U.size"
      ],
      "execution_count": null,
      "outputs": []
    },
    {
      "cell_type": "markdown",
      "metadata": {
        "id": "zNnBcQwrIHY6"
      },
      "source": [
        "Addition of Vector"
      ]
    },
    {
      "cell_type": "code",
      "metadata": {
        "id": "2BHCLBndHqDm"
      },
      "source": [
        "\n",
        "addend1 = np.array([0,0,0])\n",
        "addend2 = np.array([1,1,0])\n",
        "sum = addend1 + addend2\n",
        "sum"
      ],
      "execution_count": null,
      "outputs": []
    },
    {
      "cell_type": "code",
      "metadata": {
        "id": "exn9vr-2HroF"
      },
      "source": [
        "addend1 = np.array([0,0,0])\n",
        "addend2 = np.array([1,1,0])\n",
        "resultant = np.add(addend1,addend2)\n",
        "resultant"
      ],
      "execution_count": null,
      "outputs": []
    },
    {
      "cell_type": "markdown",
      "metadata": {
        "id": "YnJRdqZtIMvT"
      },
      "source": [
        "\n",
        "Subtraction of Vectors"
      ]
    },
    {
      "cell_type": "code",
      "metadata": {
        "id": "Xf_8QtRYHs8N"
      },
      "source": [
        "difference = addend1-addend2\n",
        "difference"
      ],
      "execution_count": null,
      "outputs": []
    },
    {
      "cell_type": "code",
      "metadata": {
        "id": "EXzGx_0VHuJA"
      },
      "source": [
        "difference2 = np.subtract(addend1,addend2)\n",
        "difference2"
      ],
      "execution_count": null,
      "outputs": []
    },
    {
      "cell_type": "markdown",
      "metadata": {
        "id": "RUJ5-CjjIbb3"
      },
      "source": [
        "Scaling"
      ]
    },
    {
      "cell_type": "code",
      "metadata": {
        "id": "YlN9svK_HwOo"
      },
      "source": [
        "A = np.array([1,5,8,9])\n",
        "S = 5*A\n",
        "S"
      ],
      "execution_count": null,
      "outputs": []
    },
    {
      "cell_type": "code",
      "metadata": {
        "id": "bJUP7846IgAe"
      },
      "source": [
        "Cross Product"
      ],
      "execution_count": null,
      "outputs": []
    },
    {
      "cell_type": "code",
      "metadata": {
        "colab": {
          "base_uri": "https://localhost:8080/"
        },
        "id": "zsjSHVC_Hxnn",
        "outputId": "b0af5250-f4ea-4c66-9cc7-0362bc4acb82"
      },
      "source": [
        "A = np.array([2,3,4])\n",
        "B = np.array([1,7,1])\n",
        "cross = np.cross(A,B)\n",
        "print(cross)"
      ],
      "execution_count": 2,
      "outputs": [
        {
          "output_type": "stream",
          "name": "stdout",
          "text": [
            "[-25   2  11]\n"
          ]
        }
      ]
    }
  ]
}