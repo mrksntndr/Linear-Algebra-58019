{
  "nbformat": 4,
  "nbformat_minor": 0,
  "metadata": {
    "colab": {
      "name": "Python Exercise 1.ipynb",
      "provenance": [],
      "authorship_tag": "ABX9TyM36guLHMIeHm8vm3myptRG",
      "include_colab_link": true
    },
    "kernelspec": {
      "name": "python3",
      "display_name": "Python 3"
    },
    "language_info": {
      "name": "python"
    }
  },
  "cells": [
    {
      "cell_type": "markdown",
      "metadata": {
        "id": "view-in-github",
        "colab_type": "text"
      },
      "source": [
        "<a href=\"https://colab.research.google.com/github/mrksntndr/Linear-Algebra-58019/blob/main/Python_Exercise_1.ipynb\" target=\"_parent\"><img src=\"https://colab.research.google.com/assets/colab-badge.svg\" alt=\"Open In Colab\"/></a>"
      ]
    },
    {
      "cell_type": "code",
      "metadata": {
        "colab": {
          "base_uri": "https://localhost:8080/"
        },
        "id": "mLCrK2PPKX5Q",
        "outputId": "d800549d-2df5-4267-dfea-f584e326d49d"
      },
      "source": [
        "import numpy as np\n",
        "A = np.array([[-5,0],[4,1]]) \n",
        "B = np.array([[6,-3],[2,3]]) \n",
        "\n",
        "sum = np.add(A,B)\n",
        "difference1 = np.subtract(A,B)\n",
        "difference2 = np.subtract(B,A)\n",
        "\n",
        "print(\"The sum of A and B:\")\n",
        "print(sum)\n",
        "print(\"The difference of A and B:\")\n",
        "print(difference1)\n",
        "print(\"The difference of B and A:\")\n",
        "print(difference2)"
      ],
      "execution_count": 2,
      "outputs": [
        {
          "output_type": "stream",
          "name": "stdout",
          "text": [
            "The sum of A and B:\n",
            "[[ 1 -3]\n",
            " [ 6  4]]\n",
            "The difference of A and B:\n",
            "[[-11   3]\n",
            " [  2  -2]]\n",
            "The difference of B and A:\n",
            "[[11 -3]\n",
            " [-2  2]]\n"
          ]
        }
      ]
    }
  ]
}