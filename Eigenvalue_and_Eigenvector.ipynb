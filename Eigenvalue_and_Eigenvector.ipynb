{
  "nbformat": 4,
  "nbformat_minor": 0,
  "metadata": {
    "colab": {
      "name": "Eigenvalue and Eigenvector.ipynb",
      "provenance": [],
      "authorship_tag": "ABX9TyMZHnkfAwsmLrIqZGUVmVsF",
      "include_colab_link": true
    },
    "kernelspec": {
      "name": "python3",
      "display_name": "Python 3"
    },
    "language_info": {
      "name": "python"
    }
  },
  "cells": [
    {
      "cell_type": "markdown",
      "metadata": {
        "id": "view-in-github",
        "colab_type": "text"
      },
      "source": [
        "<a href=\"https://colab.research.google.com/github/mrksntndr/Linear-Algebra-58019/blob/main/Eigenvalue_and_Eigenvector.ipynb\" target=\"_parent\"><img src=\"https://colab.research.google.com/assets/colab-badge.svg\" alt=\"Open In Colab\"/></a>"
      ]
    },
    {
      "cell_type": "code",
      "execution_count": 7,
      "metadata": {
        "colab": {
          "base_uri": "https://localhost:8080/"
        },
        "id": "jYx48Xwe_TJi",
        "outputId": "b61ef8bb-ccfd-4a8e-9a75-0b787cc448c9"
      },
      "outputs": [
        {
          "output_type": "stream",
          "name": "stdout",
          "text": [
            "[[-12   3]\n",
            " [  4   1]]\n",
            "[[-0.04166667  0.125     ]\n",
            " [ 0.16666667  0.5       ]]\n",
            "[[0]\n",
            " [0]]\n",
            "[[0.]\n",
            " [0.]]\n"
          ]
        }
      ],
      "source": [
        "import numpy as np #To import Library\n",
        "from numpy.linalg import eig\n",
        "\n",
        "A = np.array([[-12,3],[4,1]]) #Making 2x2 Matrix (Named A)\n",
        "print(A) #Displays A Matrix\n",
        "\n",
        "inv_A = np.linalg.inv(A) #Inverse all the values of Matrix A\n",
        "print(inv_A) #Displays the iversed output of Matrix A\n",
        "\n",
        "B = np.array([[0],[0]]) #CMaking 2x2 Matrix (Named B)\n",
        "print(B) #Displays B Matrix\n",
        "\n",
        "X = np.dot(inv_A,B) #Dot product of the inverse of matrix A and matrix B\n",
        "print(X) #Displays the dot product #X = solve(A,B) #print(X)"
      ]
    },
    {
      "cell_type": "code",
      "source": [
        "A = np.array([[-6,3],[4,5]]) #Making 2x2 Matrix (Named A)\n",
        "print(A) #Displays A Matrix\n",
        "\n",
        "w,v = np.linalg.eig(A)\n",
        "#Displays the output\n",
        "print(\"The eigenvalue/s is/are:\",w)\n",
        "print(\"The right eigenvectors are:\",v)\n",
        "#x = v.round()\n",
        "#print(x)"
      ],
      "metadata": {
        "colab": {
          "base_uri": "https://localhost:8080/"
        },
        "id": "3PYqUVc6_aEl",
        "outputId": "0e6cb68f-b06d-4800-bc6a-4c27a32c2fbb"
      },
      "execution_count": 6,
      "outputs": [
        {
          "output_type": "stream",
          "name": "stdout",
          "text": [
            "[[-6  3]\n",
            " [ 4  5]]\n",
            "The eigenvalue/s is/are: [-7.  6.]\n",
            "The right eigenvectors are: [[-0.9486833  -0.24253563]\n",
            " [ 0.31622777 -0.9701425 ]]\n"
          ]
        }
      ]
    },
    {
      "cell_type": "code",
      "source": [
        "A = np.array([[2,2,4],[1,3,5],[2,3,4]]) #Making 3x3 Matrix (Named A)\n",
        "print(A) #Displays A Matrix\n",
        "s,t = np.linalg.eig(A)\n",
        "print(s.round())\n",
        "print(t.round())\n",
        "#Computes the eigenvalues and right eigenvectors of a square array\n",
        "c = np.dot(A,t.round()) #dot product of A and t\n",
        "print(c) #Displays the final output"
      ],
      "metadata": {
        "colab": {
          "base_uri": "https://localhost:8080/"
        },
        "id": "7REDVoox_dCU",
        "outputId": "b3dcb7ad-69c1-483a-fed8-6ae62e190bb6"
      },
      "execution_count": 4,
      "outputs": [
        {
          "output_type": "stream",
          "name": "stdout",
          "text": [
            "[[2 2 4]\n",
            " [1 3 5]\n",
            " [2 3 4]]\n",
            "[ 9.  1. -1.]\n",
            "[[-1. -1. -0.]\n",
            " [-1.  1. -1.]\n",
            " [-1. -0.  1.]]\n",
            "[[-8.  0.  2.]\n",
            " [-9.  2.  2.]\n",
            " [-9.  1.  1.]]\n"
          ]
        }
      ]
    }
  ]
}