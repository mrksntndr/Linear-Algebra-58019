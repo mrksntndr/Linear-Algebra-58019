{
  "nbformat": 4,
  "nbformat_minor": 0,
  "metadata": {
    "colab": {
      "name": "Final Exam.ipynb",
      "provenance": [],
      "authorship_tag": "ABX9TyPjaOJeQ4SRj2Dn9GZVUAbE",
      "include_colab_link": true
    },
    "kernelspec": {
      "name": "python3",
      "display_name": "Python 3"
    },
    "language_info": {
      "name": "python"
    }
  },
  "cells": [
    {
      "cell_type": "markdown",
      "metadata": {
        "id": "view-in-github",
        "colab_type": "text"
      },
      "source": [
        "<a href=\"https://colab.research.google.com/github/mrksntndr/Linear-Algebra-58019/blob/main/Final_Exam.ipynb\" target=\"_parent\"><img src=\"https://colab.research.google.com/assets/colab-badge.svg\" alt=\"Open In Colab\"/></a>"
      ]
    },
    {
      "cell_type": "markdown",
      "source": [
        "Problem 1. Student A, Student B, and Student C have a total of Php 89 cash in their banks. Student A has 6 less than Student C. Student B has 3 times what Student C has. How much does each student have? (30 points)"
      ],
      "metadata": {
        "id": "GPUgYFl3JTCV"
      }
    },
    {
      "cell_type": "code",
      "execution_count": 59,
      "metadata": {
        "colab": {
          "base_uri": "https://localhost:8080/"
        },
        "id": "hUvI4tLNGj0j",
        "outputId": "5da088ae-6b7d-4c9b-e732-02d4ed8f30b6"
      },
      "outputs": [
        {
          "output_type": "stream",
          "name": "stdout",
          "text": [
            "[[13.]\n",
            " [57.]\n",
            " [19.]]\n"
          ]
        }
      ],
      "source": [
        "import numpy as np\n",
        "\n",
        "N1 = np.array([[1,1,1], [1,0,4], [0,0,5]])\n",
        "N2 = np.array([[89], [89], [95]])\n",
        "T = np.linalg.inv(N1).dot(N2)\n",
        "\n",
        "print(T)"
      ]
    },
    {
      "cell_type": "markdown",
      "source": [
        "Problem 2. Solve each system: (30 points)"
      ],
      "metadata": {
        "id": "6yzHriGSJTd9"
      }
    },
    {
      "cell_type": "code",
      "source": [
        "#Three linear equations with x, y, and z are unknown\n",
        "#3x-y+z=5\n",
        "#9x-3y+3z=15\n",
        "#-12x+4y-4z=-20\n",
        "\n",
        "A = np.array([[3,-1,1],[9,-3,3],[-12,4,-4]]) #create 3x3 matrix\n",
        "print(\"Coefficients:\") \n",
        "print(A) #print Coefficients\n",
        "\n",
        "B = np.array([[5],[15],[-20]])\n",
        "print(\"\\nConstants:\")\n",
        "print(B) #print Constants\n",
        "\n",
        "X = np.linalg.pinv(A) @ B # compute the pseudo inverse of A\n",
        "                         \n",
        "print(\"\\nOutput:\")\n",
        "print(X) #print Outpout\n"
      ],
      "metadata": {
        "colab": {
          "base_uri": "https://localhost:8080/"
        },
        "id": "kSAxJVAyJT_q",
        "outputId": "12e57535-7ff9-4859-db9d-37a83f764c43"
      },
      "execution_count": 58,
      "outputs": [
        {
          "output_type": "stream",
          "name": "stdout",
          "text": [
            "Coefficients:\n",
            "[[  3  -1   1]\n",
            " [  9  -3   3]\n",
            " [-12   4  -4]]\n",
            "\n",
            "Constants:\n",
            "[[  5]\n",
            " [ 15]\n",
            " [-20]]\n",
            "\n",
            "Output:\n",
            "[[ 1.36363636]\n",
            " [-0.45454545]\n",
            " [ 0.45454545]]\n"
          ]
        }
      ]
    },
    {
      "cell_type": "markdown",
      "source": [
        "Problem 3. Consider the matrix, (40 points)"
      ],
      "metadata": {
        "id": "XC5US1VwJUQj"
      }
    },
    {
      "cell_type": "code",
      "source": [
        "A = np.array([[8, 5, -6], [-12, -9, 12], [-3, -3, 5]]) #create 3x3 matrix\n",
        "\n",
        "output, vector = np.linalg.eig(A) #application of eig method to obtain the eigen value and eigenvector \n",
        "print(f'\\nEigenvalue(s): {output}') #print eigenvalue(s)\n",
        "print(f'\\nEigenvector(s):\\n {vector}') #print eigenvector(s)\n",
        "print(f'\\nEigenvector(s):\\n {vector.round()}')"
      ],
      "metadata": {
        "colab": {
          "base_uri": "https://localhost:8080/"
        },
        "id": "zWgKD9RDJVxT",
        "outputId": "67758971-f52f-42d1-ecef-6a5457511821"
      },
      "execution_count": 50,
      "outputs": [
        {
          "output_type": "stream",
          "name": "stdout",
          "text": [
            "\n",
            "Eigenvalue(s): [-1.  3.  2.]\n",
            "\n",
            "Eigenvector(s):\n",
            " [[ 3.01511345e-01 -7.07106781e-01  7.07106781e-01]\n",
            " [-9.04534034e-01  7.07106781e-01  1.53837015e-15]\n",
            " [-3.01511345e-01 -2.26120075e-15  7.07106781e-01]]\n",
            "\n",
            "Eigenvector(s):\n",
            " [[ 0. -1.  1.]\n",
            " [-1.  1.  0.]\n",
            " [-0. -0.  1.]]\n"
          ]
        }
      ]
    }
  ]
}