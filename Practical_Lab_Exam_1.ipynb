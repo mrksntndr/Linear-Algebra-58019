{
  "nbformat": 4,
  "nbformat_minor": 0,
  "metadata": {
    "colab": {
      "name": "Practical Lab Exam 1.ipynb",
      "provenance": [],
      "authorship_tag": "ABX9TyOgMuHHj9JS/GQ74lMzYtx0",
      "include_colab_link": true
    },
    "kernelspec": {
      "name": "python3",
      "display_name": "Python 3"
    },
    "language_info": {
      "name": "python"
    }
  },
  "cells": [
    {
      "cell_type": "markdown",
      "metadata": {
        "id": "view-in-github",
        "colab_type": "text"
      },
      "source": [
        "<a href=\"https://colab.research.google.com/github/mrksntndr/Linear-Algebra-58019/blob/main/Practical_Lab_Exam_1.ipynb\" target=\"_parent\"><img src=\"https://colab.research.google.com/assets/colab-badge.svg\" alt=\"Open In Colab\"/></a>"
      ]
    },
    {
      "cell_type": "markdown",
      "metadata": {
        "id": "aLo7-NX2rytT"
      },
      "source": [
        "Problem 1"
      ]
    },
    {
      "cell_type": "code",
      "metadata": {
        "colab": {
          "base_uri": "https://localhost:8080/"
        },
        "id": "zOov0qapv-vq",
        "outputId": "77015b2b-678b-47eb-b61c-d61a7e3c08c0"
      },
      "source": [
        "import numpy as np\n",
        "A = np.array([[1,2,3],[4,5,6]])\n",
        "B = np.array([[1,2],[3,4],[5,6]]) \n",
        "C = np.array([[1,2,3],[4,5,6],[7,8,9]])\n",
        "D = np.array([[1,2],[3,4]]) \n",
        "\n",
        "a = np.dot(A,B)\n",
        "b = np.add(D,D)\n",
        "c = 2*C\n",
        "\n",
        "print(\"Problem 1.\\n\")\n",
        "print(\"a)\")\n",
        "print(a)\n",
        "\n",
        "print(\"\\nb)\")\n",
        "print(b)\n",
        "\n",
        "print(\"\\nc)\")\n",
        "print(c)"
      ],
      "execution_count": 59,
      "outputs": [
        {
          "output_type": "stream",
          "name": "stdout",
          "text": [
            "Problem 1.\n",
            "\n",
            "a)\n",
            "[[22 28]\n",
            " [49 64]]\n",
            "\n",
            "b)\n",
            "[[2 4]\n",
            " [6 8]]\n",
            "\n",
            "c)\n",
            "[[ 2  4  6]\n",
            " [ 8 10 12]\n",
            " [14 16 18]]\n"
          ]
        }
      ]
    },
    {
      "cell_type": "markdown",
      "metadata": {
        "id": "GzwNBEZns28l"
      },
      "source": [
        "Problem 2"
      ]
    },
    {
      "cell_type": "code",
      "metadata": {
        "colab": {
          "base_uri": "https://localhost:8080/"
        },
        "id": "OdSiTholxrCG",
        "outputId": "e931c820-a2ee-4ae3-bf9d-11f17097d341"
      },
      "source": [
        "import numpy as np\n",
        "\n",
        "θ = np.array ([5,3,-1])\n",
        "\n",
        "print (\"Problem 2.\\n\")\n",
        "print (\"Corresponding Matrix Representing:\\nθ=5x+3y-z\\n\")\n",
        "print (θ)\n",
        "\n",
        "print (\"\\n\\nDimension:\")\n",
        "print (θ.ndim)\n",
        "\n",
        "print (\"\\nShape:\")\n",
        "print (θ.shape)\n",
        "\n",
        "print (\"\\nSize\")\n",
        "print (θ.size)\n",
        "\n",
        "print (\"\\nType\")\n",
        "print (type(θ))"
      ],
      "execution_count": 65,
      "outputs": [
        {
          "output_type": "stream",
          "name": "stdout",
          "text": [
            "Problem 2.\n",
            "\n",
            "Corresponding Matrix Representing:\n",
            "θ=5x+3y-z\n",
            "\n",
            "[ 5  3 -1]\n",
            "\n",
            "\n",
            "Dimension:\n",
            "1\n",
            "\n",
            "Shape:\n",
            "(3,)\n",
            "\n",
            "Size\n",
            "3\n",
            "\n",
            "Type\n",
            "<class 'numpy.ndarray'>\n"
          ]
        }
      ]
    }
  ]
}